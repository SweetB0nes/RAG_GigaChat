{
 "cells": [
  {
   "cell_type": "code",
   "execution_count": 1,
   "metadata": {},
   "outputs": [
    {
     "name": "stderr",
     "output_type": "stream",
     "text": [
      "s:\\LLM\\.venv\\lib\\site-packages\\tqdm\\auto.py:21: TqdmWarning: IProgress not found. Please update jupyter and ipywidgets. See https://ipywidgets.readthedocs.io/en/stable/user_install.html\n",
      "  from .autonotebook import tqdm as notebook_tqdm\n"
     ]
    }
   ],
   "source": [
    "from EmbeddingDatabase import EmbeddingDatabase\n",
    "from EmbeddingGenerator import EmbeddingGenerator\n",
    "from RelevanceEvaluator import RelevanceEvaluator\n",
    "from TextProcessor import TextProcessor\n",
    "from langchain.chat_models.gigachat import GigaChat\n",
    "from tqdm import tqdm\n",
    "import os "
   ]
  },
  {
   "cell_type": "code",
   "execution_count": 2,
   "metadata": {},
   "outputs": [],
   "source": [
    "file_path = 'data/Koroleva_Klinkov.txt' # путь до данных \n",
    "save_to_path_file = 'data/Koroleva_Klinkov_embeddings.pkl' # путь сохранения ембейдингов\n",
    "top_k = 5 # топ релевантных запросов \n",
    "chunk_size = 400 # размер чанка при разбиении текста\n",
    "\n",
    "query = '''\n",
    "Зерги присутствуют на планете, вне всяких сомнений. Они уже победили Дюка и выдворили его обратно на \n",
    "орбиту Чара.\n",
    "'''\n",
    "# параметры для запуска llm\n",
    "llm_credentials = \"u api key\"\n",
    "llm_scope = \"GIGACHAT_API_PERS\"\n",
    "llm_model = \"GigaChat\""
   ]
  },
  {
   "cell_type": "code",
   "execution_count": 3,
   "metadata": {},
   "outputs": [],
   "source": [
    "# 1. Обработка текста\n",
    "text_processor = TextProcessor(file_path)\n",
    "data_chunks = text_processor.get_chunks(chunk_size=chunk_size)"
   ]
  },
  {
   "cell_type": "code",
   "execution_count": 4,
   "metadata": {},
   "outputs": [
    {
     "name": "stderr",
     "output_type": "stream",
     "text": [
      "s:\\LLM\\.venv\\lib\\site-packages\\transformers\\tokenization_utils_base.py:1601: FutureWarning: `clean_up_tokenization_spaces` was not set. It will be set to `True` by default. This behavior will be depracted in transformers v4.45, and will be then set to `False` by default. For more details check this issue: https://github.com/huggingface/transformers/issues/31884\n",
      "  warnings.warn(\n",
      "s:\\LLM\\.venv\\lib\\site-packages\\torch\\storage.py:414: FutureWarning: You are using `torch.load` with `weights_only=False` (the current default value), which uses the default pickle module implicitly. It is possible to construct malicious pickle data which will execute arbitrary code during unpickling (See https://github.com/pytorch/pytorch/blob/main/SECURITY.md#untrusted-models for more details). In a future release, the default value for `weights_only` will be flipped to `True`. This limits the functions that could be executed during unpickling. Arbitrary objects will no longer be allowed to be loaded via this mode unless they are explicitly allowlisted by the user via `torch.serialization.add_safe_globals`. We recommend you start setting `weights_only=True` for any use case where you don't have full control of the loaded file. Please open an issue on GitHub for any issues related to this experimental feature.\n",
      "  return torch.load(io.BytesIO(b))\n"
     ]
    }
   ],
   "source": [
    "# 2. Генерация эмбеддингов\n",
    "embedding_generator = EmbeddingGenerator()\n",
    "db = EmbeddingDatabase()\n",
    "\n",
    "if os.path.exists(save_to_path_file):\n",
    "    # 3. Работа с базой данных эмбеддингов\n",
    "    db.load_from_file(save_to_path_file)\n",
    "else: \n",
    "    db_embeddings = [embedding_generator.get_embedding(chunk) for chunk in tqdm(data_chunks)]\n",
    "    # 3. Работа с базой данных эмбеддингов\n",
    "    db.add_embeddings(db_embeddings, data_chunks)\n",
    "    db.save_to_file(save_to_path_file)"
   ]
  },
  {
   "cell_type": "code",
   "execution_count": 5,
   "metadata": {},
   "outputs": [],
   "source": [
    "# 4. Оценка релевантности\n",
    "question_embedding = embedding_generator.get_embedding(query)\n",
    "top_k_indices = db.find_top_k(question_embedding, k=top_k)"
   ]
  },
  {
   "cell_type": "code",
   "execution_count": 6,
   "metadata": {},
   "outputs": [
    {
     "name": "stderr",
     "output_type": "stream",
     "text": [
      "s:\\LLM\\.venv\\lib\\site-packages\\langchain_core\\_api\\deprecation.py:141: LangChainDeprecationWarning: The method `BaseChatModel.__call__` was deprecated in langchain-core 0.1.7 and will be removed in 1.0. Use invoke instead.\n",
      "  warn_deprecated(\n"
     ]
    },
    {
     "name": "stdout",
     "output_type": "stream",
     "text": [
      "Average Precision at 5: 0.8666666666666667\n",
      "Precision at 5: 0.6\n"
     ]
    }
   ],
   "source": [
    "# 5. Оценка релевантности llm\n",
    "giga = GigaChat(\n",
    "    credentials=llm_credentials , \n",
    "    scope=llm_scope , \n",
    "    model=llm_model , \n",
    "    verify_ssl_certs=False)\n",
    "\n",
    "evaluator = RelevanceEvaluator(giga)\n",
    "\n",
    "relevant_chunks = evaluator.determine_relevance(query, data_chunks, top_k_indices)\n",
    "\n",
    "# 6. Подсчет метрик\n",
    "evaluator.evaluate_metrics(relevant_chunks, k=top_k)"
   ]
  }
 ],
 "metadata": {
  "kernelspec": {
   "display_name": ".venv",
   "language": "python",
   "name": "python3"
  },
  "language_info": {
   "codemirror_mode": {
    "name": "ipython",
    "version": 3
   },
   "file_extension": ".py",
   "mimetype": "text/x-python",
   "name": "python",
   "nbconvert_exporter": "python",
   "pygments_lexer": "ipython3",
   "version": "3.10.10"
  }
 },
 "nbformat": 4,
 "nbformat_minor": 2
}
