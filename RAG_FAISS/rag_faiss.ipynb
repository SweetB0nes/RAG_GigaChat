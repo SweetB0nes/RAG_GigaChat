{
 "cells": [
  {
   "cell_type": "code",
   "execution_count": 1,
   "metadata": {},
   "outputs": [],
   "source": [
    "from DocumentLoader import DocumentLoader\n",
    "from RelevanceEvaluator import RelevanceEvaluator\n",
    "from Retriever import Retriever"
   ]
  },
  {
   "cell_type": "code",
   "execution_count": 4,
   "metadata": {},
   "outputs": [],
   "source": [
    "file_path = 'data/Koroleva_Klinkov.pdf'\n",
    "query = '''\n",
    "Зерги присутствуют на планете, вне всяких сомнений. Они уже победили Дюка и выдворили его обратно на \n",
    "орбиту Чара.\n",
    "'''\n",
    "k = 5\n",
    "llm_credentials = \"u api key\"\n",
    "llm_scope = \"GIGACHAT_API_PERS\"\n",
    "llm_model = \"GigaChat\""
   ]
  },
  {
   "cell_type": "code",
   "execution_count": 5,
   "metadata": {},
   "outputs": [],
   "source": [
    "# Шаг 1: Загрузка документов\n",
    "doc_loader = DocumentLoader(file_path)\n",
    "documents = doc_loader.load_documents()"
   ]
  },
  {
   "cell_type": "code",
   "execution_count": 6,
   "metadata": {},
   "outputs": [
    {
     "name": "stderr",
     "output_type": "stream",
     "text": [
      "s:\\LLM\\.venv\\lib\\site-packages\\langchain_core\\_api\\deprecation.py:141: LangChainDeprecationWarning: The class `HuggingFaceEmbeddings` was deprecated in LangChain 0.2.2 and will be removed in 0.3.0. An updated version of the class exists in the langchain-huggingface package and should be used instead. To use it run `pip install -U langchain-huggingface` and import as `from langchain_huggingface import HuggingFaceEmbeddings`.\n",
      "  warn_deprecated(\n",
      "s:\\LLM\\.venv\\lib\\site-packages\\sentence_transformers\\cross_encoder\\CrossEncoder.py:11: TqdmWarning: IProgress not found. Please update jupyter and ipywidgets. See https://ipywidgets.readthedocs.io/en/stable/user_install.html\n",
      "  from tqdm.autonotebook import tqdm, trange\n",
      "s:\\LLM\\.venv\\lib\\site-packages\\transformers\\tokenization_utils_base.py:1601: FutureWarning: `clean_up_tokenization_spaces` was not set. It will be set to `True` by default. This behavior will be depracted in transformers v4.45, and will be then set to `False` by default. For more details check this issue: https://github.com/huggingface/transformers/issues/31884\n",
      "  warnings.warn(\n"
     ]
    }
   ],
   "source": [
    "# Шаг 2: Генерация эмбеддингов и Поиск по запросу\n",
    "retriever = Retriever(documents)\n",
    "retrieved_chunks = retriever.retrieve(query, k=k)"
   ]
  },
  {
   "cell_type": "code",
   "execution_count": null,
   "metadata": {},
   "outputs": [
    {
     "name": "stderr",
     "output_type": "stream",
     "text": [
      "s:\\LLM\\.venv\\lib\\site-packages\\langchain_core\\_api\\deprecation.py:141: LangChainDeprecationWarning: The method `BaseChatModel.__call__` was deprecated in langchain-core 0.1.7 and will be removed in 1.0. Use invoke instead.\n",
      "  warn_deprecated(\n"
     ]
    },
    {
     "name": "stdout",
     "output_type": "stream",
     "text": [
      "Average Precision at 5: 0.7000000000000001\n",
      "Precision at 5: 0.6\n"
     ]
    }
   ],
   "source": [
    "# Шаг 3: Определение релевантности и оценка метрик\n",
    "evaluator = RelevanceEvaluator(llm_credentials, llm_scope, llm_model)\n",
    "relevant_chunks = evaluator.determine_relevance(query, retrieved_chunks)\n",
    "evaluator.evaluate_metrics(relevant_chunks, k)"
   ]
  }
 ],
 "metadata": {
  "kernelspec": {
   "display_name": ".venv",
   "language": "python",
   "name": "python3"
  },
  "language_info": {
   "codemirror_mode": {
    "name": "ipython",
    "version": 3
   },
   "file_extension": ".py",
   "mimetype": "text/x-python",
   "name": "python",
   "nbconvert_exporter": "python",
   "pygments_lexer": "ipython3",
   "version": "3.10.10"
  }
 },
 "nbformat": 4,
 "nbformat_minor": 2
}
